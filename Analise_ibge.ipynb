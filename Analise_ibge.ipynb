{
 "cells": [
  {
   "cell_type": "code",
   "execution_count": 1,
   "metadata": {},
   "outputs": [
    {
     "name": "stdout",
     "output_type": "stream",
     "text": [
      "Acessando API...\n",
      "A região Centro-Oeste tem 1606366.8 unid\n",
      "Preparar dados para representar em um gráfico...\n",
      "['Norte' '3853575.6' '4.12' 'Nordeste' '1554387.7' '34.15' 'Sudeste'\n",
      " '924596.1' '86.92' 'Sul' '563802.1' '48.58' 'Centro-Oeste' '1606366.8'\n",
      " '8.75']\n",
      "Acrescentar nomes para colunas e armazenar tudo em um DataFrame\n",
      "  Grande Região Área total das unidades territoriais  \\\n",
      "0         Norte                            3853575.6   \n",
      "1      Nordeste                            1554387.7   \n",
      "2       Sudeste                             924596.1   \n",
      "3           Sul                             563802.1   \n",
      "4  Centro-Oeste                            1606366.8   \n",
      "\n",
      "  Densidade demográfica da unidade territorial  \n",
      "0                                         4.12  \n",
      "1                                        34.15  \n",
      "2                                        86.92  \n",
      "3                                        48.58  \n",
      "4                                         8.75  \n"
     ]
    }
   ],
   "source": [
    " #Importe as bibliotecas\n",
    "import requests\n",
    "import pandas as pd #Data handling \n",
    "import matplotlib.pyplot as plt\n",
    "import numpy as np #Array handling\n",
    "import json\n",
    "import seaborn as sns\n",
    "\n",
    "print('Acessando API...')\n",
    "url = 'https://servicodados.ibge.gov.br/api/v3/agregados/1301/periodos/2010/variaveis/615%7C616?localidades=N2[all]'#url da Query Builder do IBGE\n",
    "\n",
    "Data_IBGE = requests.get(url).json()\n",
    " # Data_IBGE\n",
    "titulo = Data_IBGE[0]['variavel']\n",
    " # titulo\n",
    "unidVar0 = Data_IBGE[0]['unidade']\n",
    "unidVar1 = Data_IBGE[1]['unidade']\n",
    "unidVar0\n",
    "RR = 4 #Qual região\n",
    "Area_total = Data_IBGE[0]['resultados'][0]['series'][RR]['serie']['2010']\n",
    "# Area_total\n",
    "Regiao = Data_IBGE[0]['resultados'][0]['series'][RR]['localidade']['nome']\n",
    "print('A região', Regiao, 'tem',  Area_total, 'unid')\n",
    "\n",
    "# Preparar dados para representar em um gráfico\n",
    "print('Preparar dados para representar em um gráfico...')\n",
    "dados = []\n",
    "for i in range(len(Data_IBGE[0]['resultados'][0]['series'])):#cria uma matriz com vetor de dados     \n",
    "   dados.append( Data_IBGE[0]['resultados'][0]['series'][i]['localidade']['nome'] )#Qual a região\n",
    "   dados.append( Data_IBGE[0]['resultados'][0]['series'][i]['serie']['2010'] )#\"Área total das unidades territoriais\"\n",
    "   dados.append( Data_IBGE[1]['resultados'][0]['series'][i]['serie']['2010'] )#\"Habitante por quilômetro quadrado\"\n",
    "\n",
    "matriz_np = np.array(dados)\n",
    "print(matriz_np)\n",
    "\n",
    "matriz_ajustada = np.reshape(matriz_np, (5,3))\n",
    " # matriz_ajustada\n",
    " ## -- Acrescentar nomes para colunas e armazenar tudo em um DataFrame\n",
    "print('Acrescentar nomes para colunas e armazenar tudo em um DataFrame') \n",
    "varName0 = Data_IBGE[0]['resultados'][0]['series'][i]['localidade']['nivel']['nome'] \n",
    "varName1 = Data_IBGE[0]['variavel']\n",
    "varName2 = Data_IBGE[1]['variavel']\n",
    "colunas = [varName0, varName1, varName2]\n",
    "df = pd.DataFrame(matriz_ajustada, columns = colunas)\n",
    "print(df)"
   ]
  }
 ],
 "metadata": {
  "interpreter": {
   "hash": "916dbcbb3f70747c44a77c7bcd40155683ae19c65e1c03b4aa3499c5328201f1"
  },
  "kernelspec": {
   "display_name": "Python 3.9.2 64-bit",
   "language": "python",
   "name": "python3"
  },
  "language_info": {
   "codemirror_mode": {
    "name": "ipython",
    "version": 3
   },
   "file_extension": ".py",
   "mimetype": "text/x-python",
   "name": "python",
   "nbconvert_exporter": "python",
   "pygments_lexer": "ipython3",
   "version": "3.9.2"
  },
  "orig_nbformat": 4
 },
 "nbformat": 4,
 "nbformat_minor": 2
}
